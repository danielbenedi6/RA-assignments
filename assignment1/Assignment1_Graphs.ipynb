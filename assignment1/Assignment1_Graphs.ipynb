{
  "cells": [
    {
      "cell_type": "code",
      "execution_count": null,
      "metadata": {
        "id": "o4kJNSY4QUAU"
      },
      "outputs": [],
      "source": [
        "%%capture\n",
        "!pip install folium==0.2.1\n",
        "!pip install pdflatex\n",
        "!sudo apt update\n",
        "!sudo apt install -y texlive-latex-recommended \n",
        "!sudo apt install -y texlive-latex-extra\n",
        "!sudo apt install -y dvipng\n",
        "!mkdir ./drive/MyDrive/darts_graphs\n",
        "!mkdir ./drive/MyDrive/needles_graphs"
      ]
    },
    {
      "cell_type": "code",
      "execution_count": null,
      "metadata": {
        "id": "Py9LJl9fZ21h"
      },
      "outputs": [],
      "source": [
        "import tarfile\n",
        "import pandas as pd\n",
        "import io\n",
        "import matplotlib.pyplot as plt\n",
        "from scipy import stats\n",
        "import math\n",
        "import numpy as np\n",
        "from tqdm.notebook import tqdm"
      ]
    },
    {
      "cell_type": "code",
      "execution_count": null,
      "metadata": {
        "id": "E4D3exSvNrCf"
      },
      "outputs": [],
      "source": [
        "import matplotlib\n",
        "matplotlib.use(\"pgf\")\n",
        "matplotlib.rcParams.update({\n",
        "    \"pgf.texsystem\": \"pdflatex\",\n",
        "    'font.family': 'serif',\n",
        "    'text.usetex': True,\n",
        "    'pgf.rcfonts': False,\n",
        "})"
      ]
    },
    {
      "cell_type": "markdown",
      "metadata": {
        "id": "_fXhEKJrg97G"
      },
      "source": [
        "---\n",
        "# Darts experiment. Graphs"
      ]
    },
    {
      "cell_type": "code",
      "execution_count": null,
      "metadata": {
        "id": "KPnaZfZh3HqP"
      },
      "outputs": [],
      "source": [
        "experiment=\"darts\"\n",
        "tar = tarfile.open('./drive/MyDrive/'+experiment+'.tar.gz','r:gz')"
      ]
    },
    {
      "cell_type": "markdown",
      "metadata": {
        "id": "4uA0AIEJ22Rj"
      },
      "source": [
        "## Points Correlation"
      ]
    },
    {
      "cell_type": "code",
      "execution_count": null,
      "metadata": {
        "id": "AyCOCpxOeV79"
      },
      "outputs": [],
      "source": [
        "points = pd.read_csv(io.TextIOWrapper(tar.extractfile('points.csv'), encoding='utf-8'), delimiter=',')"
      ]
    },
    {
      "cell_type": "code",
      "execution_count": null,
      "metadata": {
        "id": "9KGXd48EgHO7"
      },
      "outputs": [],
      "source": [
        "points.hist(edgecolor='black', linewidth=1.2)\n",
        "plt.savefig('drive/MyDrive/'+experiment+'_graphs/histogram.pgf')"
      ]
    },
    {
      "cell_type": "code",
      "execution_count": null,
      "metadata": {
        "id": "Boci-a59ohB7"
      },
      "outputs": [],
      "source": [
        "table = [[0 for _ in range(10)] for _ in range(10)]\n",
        "for index, point in tqdm(points.iterrows()):\n",
        "  X = int(math.trunc(point['X']*10))\n",
        "  Y = int(math.trunc(point[' Y']*10))\n",
        "  if X == 10:\n",
        "    X = 9\n",
        "  if Y == 10:\n",
        "    Y = 9\n",
        "  \n",
        "  table[X][Y] += 1\n",
        "print(table)"
      ]
    },
    {
      "cell_type": "markdown",
      "metadata": {
        "id": "hfQJyOz8gIuF"
      },
      "source": [
        "Backup of table: \n",
        "\n",
        "```\n",
        "table = [[1745145, 1743955, 1745232, 1744564, 1746407, 1744605, 1746542, 1746672, 1744476, 1743516],\n",
        "         [1745270, 1746324, 1748509, 1744806, 1746836, 1745933, 1745279, 1742781, 1746230, 1744721],\n",
        "         [1747144, 1745078, 1745527, 1746533, 1747825, 1745591, 1745113, 1748146, 1745903, 1748439],\n",
        "         [1743395, 1743625, 1747289, 1747116, 1746891, 1745744, 1746801, 1744843, 1748323, 1744737],\n",
        "         [1746659, 1746695, 1746828, 1745925, 1745895, 1743369, 1745108, 1748394, 1742910, 1747143],\n",
        "         [1745416, 1746147, 1747978, 1746176, 1745469, 1746341, 1745014, 1746914, 1746220, 1744766],\n",
        "         [1746182, 1748644, 1747573, 1745971, 1746631, 1744745, 1743806, 1747284, 1746923, 1745694],\n",
        "         [1744587, 1746206, 1747853, 1746838, 1746575, 1746781, 1744927, 1747990, 1745125, 1746856],\n",
        "         [1745560, 1747070, 1745350, 1745748, 1747400, 1745993, 1747877, 1746417, 1747316, 1745785],\n",
        "         [1744578, 1743407, 1745620, 1744546, 1747630, 1744052, 1745102, 1747261, 1744886, 1745353]]\n",
        "\n",
        "```\n",
        "\n"
      ]
    },
    {
      "cell_type": "code",
      "execution_count": null,
      "metadata": {
        "id": "aOitfBHW0oIl"
      },
      "outputs": [],
      "source": [
        "total = sum([sum(i) for i in table])\n",
        "print(total)"
      ]
    },
    {
      "cell_type": "code",
      "execution_count": null,
      "metadata": {
        "id": "1INOhy8mrSBm"
      },
      "outputs": [],
      "source": [
        "ranges = ['0.0', '0.1', '0.2', '0.3', '0.4', '0.5', '0.6', '0.7', '0.8', '0.9']\n",
        "a = \"\\\\begin{table}[]\\n\\\\begin{tabular}{l|\"+len(table[0])*\"l|\"+\"}\\n \\cline{2-11} \\n X \\ Y & \" + \" & \".join(ranges) + \" \\\\\\\\ \\\\hline \\n\"\n",
        "for i in range(len(ranges)):\n",
        "  a += \"\\\\multicolumn{1}{|l|}{\" + ranges[i] + \"} & \" + \" & \".join([str(c) for c in table[i]]) + \" \\\\\\\\ \\\\hline \\n\"\n",
        "a += \"\\\\end{tabular} \\n\\\\end{table}\"\n",
        "print(a)\n"
      ]
    },
    {
      "cell_type": "code",
      "execution_count": null,
      "metadata": {
        "id": "FVXDs-g2ewxa"
      },
      "outputs": [],
      "source": [
        "del points\n",
        "del table\n",
        "del total\n",
        "del ranges\n",
        "del a"
      ]
    },
    {
      "cell_type": "markdown",
      "metadata": {
        "id": "S_Ir95Ys2_x4"
      },
      "source": [
        "## Approximation evolution"
      ]
    },
    {
      "cell_type": "code",
      "execution_count": null,
      "metadata": {
        "id": "tdf9ajgAtD-i"
      },
      "outputs": [],
      "source": [
        "evolution = pd.read_csv(io.TextIOWrapper(tar.extractfile('evolution.csv'), encoding='utf-8'), header=None, delimiter=',')[0].to_numpy()\n",
        "OBJ = math.pi/4"
      ]
    },
    {
      "cell_type": "code",
      "execution_count": null,
      "metadata": {
        "id": "5fw7s0OUY4ev"
      },
      "outputs": [],
      "source": [
        "unq = [evolution[0]]\n",
        "idx = [0]\n",
        "for i in tqdm(range(len(evolution))):\n",
        "  if evolution[i] != unq[-1]:\n",
        "    unq.append(evolution[i])\n",
        "    idx.append(i)\n",
        "print(len(unq))"
      ]
    },
    {
      "cell_type": "code",
      "execution_count": null,
      "metadata": {
        "id": "TEC0ZqVTlS0Z"
      },
      "outputs": [],
      "source": [
        "fig = plt.figure()\n",
        "ax = fig.add_axes([0.1,0.1,0.75,0.75])\n",
        "ax.plot(idx, unq)\n",
        "ax.axhline(y=OBJ, linestyle='dashed', color='red')\n",
        "ax.set_xlabel('Iteration')\n",
        "ax.set_ylabel('Approximation')\n",
        "ax.set_xscale('log')\n",
        "fig.savefig('drive/MyDrive/'+experiment+'_graphs/approximation_unique.pgf')"
      ]
    },
    {
      "cell_type": "code",
      "execution_count": null,
      "metadata": {
        "id": "EJHnV7fNaHjC"
      },
      "outputs": [],
      "source": [
        "ABS = []\n",
        "for i in tqdm(unq):\n",
        "  ABS.append(abs(OBJ-i))\n",
        "fig = plt.figure()\n",
        "ax = fig.add_axes([0.1,0.1,0.75,0.75])\n",
        "ax.plot(idx, ABS)\n",
        "ax.set_xlabel('Iteration')\n",
        "ax.set_ylabel('Absolute Error')\n",
        "ax.grid(True)\n",
        "ax.set_xscale('log')\n",
        "fig.savefig('drive/MyDrive/'+experiment+'_graphs/absolute_error.pgf')"
      ]
    },
    {
      "cell_type": "code",
      "execution_count": null,
      "metadata": {
        "id": "s-CdZKkkZ3B2"
      },
      "outputs": [],
      "source": [
        "percentage = []\n",
        "for i in tqdm(unq):\n",
        "  percentage.append(i/OBJ - 1)\n",
        "fig = plt.figure()\n",
        "ax = fig.add_axes([0.1,0.1,0.75,0.75])\n",
        "ax.grid(True)\n",
        "ax.plot(idx, percentage)\n",
        "ax.set_xlabel('Iteration')\n",
        "ax.set_ylabel('Percentage Error')\n",
        "ax.set_xscale('log')\n",
        "fig.savefig('drive/MyDrive/darts_graphs/error_percentage.pgf')"
      ]
    },
    {
      "cell_type": "code",
      "execution_count": null,
      "metadata": {
        "id": "Dbyh4JI9iP7B"
      },
      "outputs": [],
      "source": [
        "def similarity(a, b):\n",
        "  a_str = str(a)\n",
        "  b_str = str(b)\n",
        "  count = 0\n",
        "  while(count < len(a_str) and count < len(b_str) and a_str[count] == b_str[count]):\n",
        "    count += 1\n",
        "  return count - 2"
      ]
    },
    {
      "cell_type": "code",
      "execution_count": null,
      "metadata": {
        "id": "Q2fKIO38dsdQ"
      },
      "outputs": [],
      "source": [
        "precission = []\n",
        "showed = False\n",
        "for p in tqdm(unq):\n",
        "  precission.append(similarity(p, OBJ) )\n",
        "  if not showed and precission[-1] > 5:\n",
        "    print(len(precission))\n",
        "    showed = True\n",
        "\n",
        "fig = plt.figure()\n",
        "ax = fig.add_axes([0.1,0.1,0.75,0.75])\n",
        "ax.grid(True)\n",
        "ax.plot(idx, precission)\n",
        "ax.set_xlabel('Iteration')\n",
        "ax.set_ylabel('Decimal precission')\n",
        "ax.set_xscale('log')\n",
        "fig.savefig('drive/MyDrive/'+experiment+'_graphs/decimal_precission.pgf')"
      ]
    },
    {
      "cell_type": "code",
      "execution_count": null,
      "metadata": {
        "id": "jTeTiTe8g1oT"
      },
      "outputs": [],
      "source": [
        "SE = []\n",
        "for i in tqdm(unq):\n",
        "  SE.append((OBJ-i)**2)\n",
        "fig = plt.figure()\n",
        "ax = fig.add_axes([0.1,0.1,0.75,0.75])\n",
        "ax.plot(idx, SE)\n",
        "ax.set_xlabel('Iteration')\n",
        "ax.set_ylabel('Squared Error')\n",
        "ax.grid(True)\n",
        "ax.set_xscale('log')\n",
        "fig.savefig('drive/MyDrive/darts_graphs/squared_error.pgf')"
      ]
    },
    {
      "cell_type": "code",
      "execution_count": null,
      "metadata": {
        "id": "Wn7pjZQ_yBSY"
      },
      "outputs": [],
      "source": []
    },
    {
      "cell_type": "code",
      "execution_count": null,
      "metadata": {
        "id": "HIWklJ1rv8cR"
      },
      "outputs": [],
      "source": [
        "logA = np.log10(idx[1:])\n",
        "logB = np.log10(SE[1:])\n",
        "coefficients = np.polyfit(logA, logB, 1)\n",
        "polynomial = np.poly1d(coefficients)\n",
        "ys = polynomial(logA)\n",
        "\n",
        "fig = plt.figure()\n",
        "ax = fig.add_axes([0.1,0.1,0.75,0.75])\n",
        "ax.plot(logA, logB, label=\"Logarithm of Squared Error\")\n",
        "ax.plot(logA, ys, label=\"m=\"+str(coefficients[0]))\n",
        "ax.legend()\n",
        "fig.savefig('drive/MyDrive/'+experiment+'_graphs/loglog_approx.pgf')"
      ]
    },
    {
      "cell_type": "code",
      "execution_count": null,
      "metadata": {
        "id": "px6wxy9_8Tro"
      },
      "outputs": [],
      "source": [
        "#Preprocessing\n",
        "ZOOM_LEVEL = 10**5\n",
        "evolution = evolution[ZOOM_LEVEL:]\n",
        "unq = [evolution[0]]\n",
        "idx = [ZOOM_LEVEL]\n",
        "for i in tqdm(range(len(evolution))):\n",
        "  if evolution[i] != unq[-1]:\n",
        "    unq.append(evolution[i])\n",
        "    idx.append(ZOOM_LEVEL+i)\n",
        "print(len(unq))\n",
        "\n",
        "#Absolute error\n",
        "ABS = []\n",
        "for i in tqdm(unq):\n",
        "  ABS.append(abs(OBJ-i))\n",
        "fig = plt.figure()\n",
        "ax = fig.add_axes([0.1,0.1,0.75,0.75])\n",
        "ax.plot(idx, ABS)\n",
        "ax.set_xlabel('Iteration')\n",
        "ax.set_ylabel('Absolute Error')\n",
        "ax.grid(True)\n",
        "ax.set_xscale('log')\n",
        "fig.savefig('drive/MyDrive/'+experiment+'_graphs/absolute_error_zoom.pgf')\n",
        "\n",
        "#Squared error\n",
        "SE = []\n",
        "for i in tqdm(unq):\n",
        "  SE.append((OBJ-i)**2)\n",
        "fig = plt.figure()\n",
        "ax = fig.add_axes([0.1,0.1,0.75,0.75])\n",
        "ax.plot(idx, SE)\n",
        "ax.set_xlabel('Iteration')\n",
        "ax.set_ylabel('Squared Error')\n",
        "ax.grid(True)\n",
        "ax.set_xscale('log')\n",
        "fig.savefig('drive/MyDrive/'+experiment+'_graphs/squared_error_zoom.pgf')\n",
        "\n",
        "#Percentage error\n",
        "percentage = []\n",
        "for i in tqdm(unq):\n",
        "  percentage.append(i/OBJ - 1)\n",
        "fig = plt.figure()\n",
        "ax = fig.add_axes([0.1,0.1,0.75,0.75])\n",
        "ax.grid(True)\n",
        "ax.plot(idx, percentage)\n",
        "ax.set_xlabel('Iteration')\n",
        "ax.set_ylabel('Percentage Error')\n",
        "ax.set_xscale('log')\n",
        "fig.savefig('drive/MyDrive/'+experiment+'_graphs/error_percentage_zoom.pgf')\n",
        "\n",
        "#Decimal precission\n",
        "precission = []\n",
        "showed = False\n",
        "for p in tqdm(unq):\n",
        "  precission.append(similarity(p, OBJ) )\n",
        "  if not showed and precission[-1] > 5:\n",
        "    print(len(precission))\n",
        "    showed = True\n",
        "\n",
        "fig = plt.figure()\n",
        "ax = fig.add_axes([0.1,0.1,0.75,0.75])\n",
        "ax.grid(True)\n",
        "ax.plot(idx, precission)\n",
        "ax.set_xlabel('Iteration')\n",
        "ax.set_ylabel('Decimal precission')\n",
        "ax.set_xscale('log')\n",
        "fig.savefig('drive/MyDrive/'+experiment+'_graphs/decimal_precission_zoom.pgf')"
      ]
    },
    {
      "cell_type": "code",
      "execution_count": null,
      "metadata": {
        "id": "SwV-bUd_e9GC"
      },
      "outputs": [],
      "source": [
        "del fig\n",
        "del ax\n",
        "del unq\n",
        "del idx\n",
        "del SE\n",
        "del ABS\n",
        "del precission\n",
        "del showed\n",
        "del percentage"
      ]
    },
    {
      "cell_type": "markdown",
      "metadata": {
        "id": "5E7CeBqKhIqr"
      },
      "source": [
        "---\n",
        "# Needle's buffon experiment. Graphs\n",
        "\n",
        "\n",
        "\n",
        "\n"
      ]
    },
    {
      "cell_type": "code",
      "execution_count": null,
      "metadata": {
        "id": "dpJ-M4eNdQCO"
      },
      "outputs": [],
      "source": [
        "experiment=\"needles\"\n",
        "tar = tarfile.open('./drive/MyDrive/'+experiment+'.tar.gz','r:gz')"
      ]
    },
    {
      "cell_type": "markdown",
      "metadata": {
        "id": "cP5suPE23OhX"
      },
      "source": [
        "## Points Correlation"
      ]
    },
    {
      "cell_type": "code",
      "execution_count": null,
      "metadata": {
        "id": "lD4Ed0NOdaUM"
      },
      "outputs": [],
      "source": [
        "points = pd.read_csv(io.TextIOWrapper(tar.extractfile('points.csv'), encoding='utf-8'), delimiter=',')"
      ]
    },
    {
      "cell_type": "code",
      "execution_count": null,
      "metadata": {
        "id": "H1NnW0iEdb5d"
      },
      "outputs": [],
      "source": [
        "points.hist(edgecolor='black', linewidth=1.2)\n",
        "plt.savefig('drive/MyDrive/'+experiment+'_graphs/histogram.pgf')"
      ]
    },
    {
      "cell_type": "code",
      "execution_count": null,
      "metadata": {
        "id": "m96innUrdbzv"
      },
      "outputs": [],
      "source": [
        "table = [[0 for _ in range(10)] for _ in range(10)]\n",
        "alpha = 20/math.pi\n",
        "for index, point in tqdm(points.iterrows()):\n",
        "  X = int(math.trunc(point['X']*20))\n",
        "  Y = int(math.trunc(alpha*point['Theta']))\n",
        "  if X == 10:\n",
        "    X = 9\n",
        "  if Y == 10:\n",
        "    Y = 9\n",
        "  \n",
        "  table[X][Y] += 1\n",
        "print(table)"
      ]
    },
    {
      "cell_type": "markdown",
      "metadata": {
        "id": "IfGGXX1kd1CN"
      },
      "source": [
        "Backup of table: \n",
        "\n",
        "```\n",
        "table = [[3494474, 3492729, 3490494, 3493320, 3494240, 3489546, 3490327, 3492164, 3487630, 3490141], \n",
        "         [3490156, 3492111, 3489345, 3494815, 3491652, 3491365, 3490987, 3491057, 3490720, 3490946], \n",
        "         [3491301, 3493562, 3495663, 3488261, 3491413, 3491371, 3493552, 3492123, 3493766, 3491710], \n",
        "         [3490484, 3487447, 3491976, 3492694, 3491445, 3492973, 3493845, 3490717, 3494012, 3493776], \n",
        "         [3489295, 3497169, 3491152, 3492070, 3491482, 3491884, 3493455, 3493747, 3494042, 3490587], \n",
        "         [20, 17, 15, 12, 24, 22, 13, 21, 22, 15], \n",
        "         [0, 0, 0, 0, 0, 0, 0, 0, 0, 0], \n",
        "         [0, 0, 0, 0, 0, 0, 0, 0, 0, 0], \n",
        "         [0, 0, 0, 0, 0, 0, 0, 0, 0, 0], \n",
        "         [0, 0, 0, 0, 0, 0, 0, 0, 0, 0]]\n",
        "```\n",
        "\n"
      ]
    },
    {
      "cell_type": "code",
      "execution_count": null,
      "metadata": {
        "id": "YrWLAuPodbne"
      },
      "outputs": [],
      "source": [
        "total = sum([sum(i) for i in table])\n",
        "print(total)"
      ]
    },
    {
      "cell_type": "code",
      "execution_count": null,
      "metadata": {
        "id": "dbeCvQs63uId"
      },
      "outputs": [],
      "source": []
    },
    {
      "cell_type": "code",
      "execution_count": null,
      "metadata": {
        "id": "PlMstSgHdbg1"
      },
      "outputs": [],
      "source": [
        "rangeX = ['%.1f'%(0.05*i) for i in range(10)]\n",
        "rangeT = ['%.5f'%((math.pi/20)*i) for i in range(10)]\n",
        "a = \"\\\\begin{table}[]\\n\\\\begin{tabular}{l|\"+len(table[0])*\"l|\"+\"}\\n \\cline{2-11} \\n X \\ $\\\\theta$ & \" + \" & \".join(rangeT) + \" \\\\\\\\ \\\\hline \\n\"\n",
        "for i in range(len(rangeX)):\n",
        "  a += \"\\\\multicolumn{1}{|l|}{\" + rangeX[i] + \"} & \" + \" & \".join([str(c) for c in table[i]]) + \" \\\\\\\\ \\\\hline \\n\"\n",
        "a += \"\\\\end{tabular} \\n\\\\end{table}\"\n",
        "print(a)"
      ]
    },
    {
      "cell_type": "code",
      "execution_count": null,
      "metadata": {
        "id": "2hK4Wu5AcYgG"
      },
      "outputs": [],
      "source": [
        "del points\n",
        "del table\n",
        "del total\n",
        "del rangeX\n",
        "del rangeT\n",
        "del a"
      ]
    },
    {
      "cell_type": "markdown",
      "metadata": {
        "id": "HAzuLV663QdN"
      },
      "source": [
        "## Approximation Evolution"
      ]
    },
    {
      "cell_type": "code",
      "execution_count": null,
      "metadata": {
        "id": "hyRLqQRqdbZd"
      },
      "outputs": [],
      "source": [
        "evolution = pd.read_csv(io.TextIOWrapper(tar.extractfile('evolution.csv'), encoding='utf-8'), header=None, delimiter=',')[0].to_numpy()\n",
        "OBJ = 1/math.pi"
      ]
    },
    {
      "cell_type": "code",
      "execution_count": null,
      "metadata": {
        "id": "Equ7P10KdFPO"
      },
      "outputs": [],
      "source": [
        "unq = [evolution[0]]\n",
        "idx = [0]\n",
        "for i in tqdm(range(len(evolution))):\n",
        "  if evolution[i] != unq[-1]:\n",
        "    unq.append(evolution[i])\n",
        "    idx.append(i)\n",
        "print(len(unq))"
      ]
    },
    {
      "cell_type": "code",
      "execution_count": null,
      "metadata": {
        "id": "ndp9YDqieP3s"
      },
      "outputs": [],
      "source": [
        "fig = plt.figure()\n",
        "ax = fig.add_axes([0.1,0.1,0.75,0.75])\n",
        "ax.plot(idx, unq)\n",
        "ax.axhline(y=OBJ, linestyle='dashed', color='red')\n",
        "ax.set_xlabel('Iteration')\n",
        "ax.set_ylabel('Approximation')\n",
        "ax.set_xscale('log')\n",
        "fig.savefig('drive/MyDrive/'+experiment+'_graphs/approximation_unique.pgf')"
      ]
    },
    {
      "cell_type": "code",
      "execution_count": null,
      "metadata": {
        "id": "MITo9H4TeP3t"
      },
      "outputs": [],
      "source": [
        "ABS = []\n",
        "for i in tqdm(unq):\n",
        "  ABS.append(abs(OBJ-i))\n",
        "fig = plt.figure()\n",
        "ax = fig.add_axes([0.1,0.1,0.75,0.75])\n",
        "ax.plot(idx, ABS)\n",
        "ax.set_xlabel('Iteration')\n",
        "ax.set_ylabel('Absolute Error')\n",
        "ax.grid(True)\n",
        "ax.set_xscale('log')\n",
        "fig.savefig('drive/MyDrive/'+experiment+'_graphs/absolute_error.pgf')"
      ]
    },
    {
      "cell_type": "code",
      "execution_count": null,
      "metadata": {
        "id": "29laV5uGeP3t"
      },
      "outputs": [],
      "source": [
        "percentage = []\n",
        "for i in tqdm(unq):\n",
        "  percentage.append(i/OBJ - 1)\n",
        "fig = plt.figure()\n",
        "ax = fig.add_axes([0.1,0.1,0.75,0.75])\n",
        "ax.grid(True)\n",
        "ax.plot(idx, percentage)\n",
        "ax.set_xlabel('Iteration')\n",
        "ax.set_ylabel('Error Percentage')\n",
        "ax.set_xscale('log')\n",
        "fig.savefig('drive/MyDrive/'+experiment+'_graphs/error_percentage.pgf')"
      ]
    },
    {
      "cell_type": "code",
      "execution_count": null,
      "metadata": {
        "id": "XWb3dwzmeP3u"
      },
      "outputs": [],
      "source": [
        "def similarity(a, b):\n",
        "  a_str = str(a)\n",
        "  b_str = str(b)\n",
        "  count = 0\n",
        "  while(count < len(a_str) and count < len(b_str) and a_str[count] == b_str[count]):\n",
        "    count += 1\n",
        "  return count - 2"
      ]
    },
    {
      "cell_type": "code",
      "execution_count": null,
      "metadata": {
        "id": "m0OJxiP4eP3u"
      },
      "outputs": [],
      "source": [
        "precission = []\n",
        "showed = False\n",
        "for p in tqdm(unq):\n",
        "  precission.append(similarity(p, OBJ) )\n",
        "  if not showed and precission[-1] > 5:\n",
        "    print(len(precission))\n",
        "    showed = True\n",
        "\n",
        "fig = plt.figure()\n",
        "ax = fig.add_axes([0.1,0.1,0.75,0.75])\n",
        "ax.grid(True)\n",
        "ax.plot(idx, precission)\n",
        "ax.set_xlabel('Iteration')\n",
        "ax.set_ylabel('Decimal precission')\n",
        "ax.set_xscale('log')\n",
        "fig.savefig('drive/MyDrive/'+experiment+'_graphs/decimal_precission.pgf')"
      ]
    },
    {
      "cell_type": "code",
      "execution_count": null,
      "metadata": {
        "id": "DY5FJaV-i1AD"
      },
      "outputs": [],
      "source": [
        "SE = []\n",
        "for i in tqdm(unq):\n",
        "  SE.append((OBJ-i)**2)\n",
        "fig = plt.figure()\n",
        "ax = fig.add_axes([0.1,0.1,0.75,0.75])\n",
        "ax.plot(idx, SE)\n",
        "ax.set_xlabel('Iteration')\n",
        "ax.set_ylabel('Squared Error')\n",
        "ax.grid(True)\n",
        "ax.set_xscale('log')\n",
        "fig.savefig('drive/MyDrive/'+experiment+'_graphs/squared_error.pgf')"
      ]
    },
    {
      "cell_type": "code",
      "execution_count": null,
      "metadata": {
        "id": "q2dMPtBQh3ON"
      },
      "outputs": [],
      "source": [
        "logA = np.log10(idx[1:])\n",
        "logB = np.log10(SE[1:])\n",
        "coefficients = np.polyfit(logA, logB, 1)\n",
        "polynomial = np.poly1d(coefficients)\n",
        "ys = polynomial(logA)\n",
        "\n",
        "fig = plt.figure()\n",
        "ax = fig.add_axes([0.1,0.1,0.75,0.75])\n",
        "ax.plot(logA, logB, label=\"Logarithm of Squared Error\")\n",
        "ax.plot(logA, ys, label=\"m=\"+str(coefficients[0]))\n",
        "ax.legend()\n",
        "fig.savefig('drive/MyDrive/'+experiment+'_graphs/loglog_approx.pgf')"
      ]
    },
    {
      "cell_type": "code",
      "execution_count": null,
      "metadata": {
        "id": "aaSE5Is3-vSq"
      },
      "outputs": [],
      "source": [
        "#Preprocessing\n",
        "ZOOM_LEVEL = 10**5\n",
        "evolution = evolution[ZOOM_LEVEL:]\n",
        "unq = [evolution[0]]\n",
        "idx = [10**5]\n",
        "for i in tqdm(range(len(evolution))):\n",
        "  if evolution[i] != unq[-1]:\n",
        "    unq.append(evolution[i])\n",
        "    idx.append(10**5+i)\n",
        "print(len(unq))\n",
        "\n",
        "#Absolute error\n",
        "ABS = []\n",
        "for i in tqdm(unq):\n",
        "  ABS.append(abs(OBJ-i))\n",
        "fig = plt.figure()\n",
        "ax = fig.add_axes([0.1,0.1,0.75,0.75])\n",
        "ax.plot(idx, ABS)\n",
        "ax.set_xlabel('Iteration')\n",
        "ax.set_ylabel('Absolute Error')\n",
        "ax.grid(True)\n",
        "ax.set_xscale('log')\n",
        "fig.savefig('drive/MyDrive/'+experiment+'_graphs/absolute_error_zoom.pgf')\n",
        "\n",
        "#Squared error\n",
        "SE = []\n",
        "for i in tqdm(unq):\n",
        "  SE.append((OBJ-i)**2)\n",
        "fig = plt.figure()\n",
        "ax = fig.add_axes([0.1,0.1,0.75,0.75])\n",
        "ax.plot(idx, SE)\n",
        "ax.set_xlabel('Iteration')\n",
        "ax.set_ylabel('Squared Error')\n",
        "ax.grid(True)\n",
        "ax.set_xscale('log')\n",
        "fig.savefig('drive/MyDrive/'+experiment+'_graphs/squared_error_zoom.pgf')\n",
        "\n",
        "#Percentage error\n",
        "percentage = []\n",
        "for i in tqdm(unq):\n",
        "  percentage.append(i/OBJ - 1)\n",
        "fig = plt.figure()\n",
        "ax = fig.add_axes([0.1,0.1,0.75,0.75])\n",
        "ax.grid(True)\n",
        "ax.plot(idx, percentage)\n",
        "ax.set_xlabel('Iteration')\n",
        "ax.set_ylabel('Percentage Error')\n",
        "ax.set_xscale('log')\n",
        "fig.savefig('drive/MyDrive/'+experiment+'_graphs/error_percentage_zoom.pgf')\n",
        "\n",
        "#Decimal precission\n",
        "precission = []\n",
        "showed = False\n",
        "for p in tqdm(unq):\n",
        "  precission.append(similarity(p, OBJ) )\n",
        "  if not showed and precission[-1] > 5:\n",
        "    print(len(precission))\n",
        "    showed = True\n",
        "\n",
        "fig = plt.figure()\n",
        "ax = fig.add_axes([0.1,0.1,0.75,0.75])\n",
        "ax.grid(True)\n",
        "ax.plot(idx, precission)\n",
        "ax.set_xlabel('Iteration')\n",
        "ax.set_ylabel('Decimal precission')\n",
        "ax.set_xscale('log')\n",
        "fig.savefig('drive/MyDrive/'+experiment+'_graphs/decimal_precission_zoom.pgf')"
      ]
    },
    {
      "cell_type": "code",
      "execution_count": null,
      "metadata": {
        "id": "Crp8zpX1izg0"
      },
      "outputs": [],
      "source": [
        "del fig\n",
        "del ax\n",
        "del unq\n",
        "del precission\n",
        "del idx\n",
        "del showed\n",
        "del ABS\n",
        "del percentage\n",
        "del SE"
      ]
    },
    {
      "cell_type": "markdown",
      "source": [
        "---\n",
        "# Comparison"
      ],
      "metadata": {
        "id": "n5rzPfNUZgi8"
      }
    },
    {
      "cell_type": "code",
      "source": [
        "fig = plt.figure()\n",
        "ax = fig.add_axes([0.1,0.1,0.75,0.75])\n",
        "ax.set_xlabel('Iteration')\n",
        "ax.set_ylabel('Normalized absolute error')\n",
        "\n",
        "experiment=\"darts\"\n",
        "tar = tarfile.open('./drive/MyDrive/'+experiment+'.tar.gz','r:gz')\n",
        "evolution = pd.read_csv(io.TextIOWrapper(tar.extractfile('evolution.csv'), encoding='utf-8'), header=None, delimiter=',')[0].to_numpy()\n",
        "OBJ = math.pi/4\n",
        "unq = [evolution[0]]\n",
        "percentage = [abs(evolution[0]-OBJ)/OBJ]\n",
        "idx = [1]\n",
        "for i in tqdm(range(len(evolution))):\n",
        "  if evolution[i] != unq[-1]:\n",
        "    unq.append(evolution[i])\n",
        "    percentage.append(abs(evolution[i]-OBJ)/OBJ)\n",
        "    idx.append(i+1)\n",
        "\n",
        "\n",
        "ax.loglog(idx,percentage, label='Darts\\' experiment error')\n",
        "logA = np.log10(idx)\n",
        "logB = np.log10(percentage)\n",
        "coefficients = np.polyfit(logA, logB, 1)\n",
        "polynomial = np.poly1d(coefficients)\n",
        "ys = polynomial(logA)\n",
        "ax.plot(10**logA, 10**ys, label=\"Darts\\' experiment m=%.2f\"%(coefficients[0]))\n",
        "\n",
        "experiment=\"needls\"\n",
        "tar = tarfile.open('./drive/MyDrive/'+experiment+'.tar.gz','r:gz')\n",
        "evolution = pd.read_csv(io.TextIOWrapper(tar.extractfile('evolution.csv'), encoding='utf-8'), header=None, delimiter=',')[0].to_numpy()\n",
        "OBJ = 1/math.pi\n",
        "unq = [evolution[0]]\n",
        "percentage = [abs(evolution[0]-OBJ)/OBJ]\n",
        "idx = [1]\n",
        "for i in tqdm(range(len(evolution))):\n",
        "  if evolution[i] != unq[-1]:\n",
        "    unq.append(evolution[i])\n",
        "    percentage.append(abs(evolution[i]-OBJ)/OBJ)\n",
        "    idx.append(i+1)\n",
        "\n",
        "ax.loglog(idx,percentage, label='Needles\\' experiment error')\n",
        "logA = np.log10(idx)\n",
        "logB = np.log10(percentage)\n",
        "coefficients = np.polyfit(logA, logB, 1)\n",
        "polynomial = np.poly1d(coefficients)\n",
        "ys = polynomial(logA)\n",
        "ax.plot(10**logA, 10**ys, label=\"Needles\\' experiment m=%.2f\"%(coefficients[0]))\n",
        "\n",
        "ax.legend()\n",
        "fig.savefig('drive/MyDrive/comparison.pgf')"
      ],
      "metadata": {
        "id": "fhOIL9jcZoiw"
      },
      "execution_count": null,
      "outputs": []
    }
  ],
  "metadata": {
    "colab": {
      "collapsed_sections": [
        "_fXhEKJrg97G"
      ],
      "provenance": []
    },
    "kernelspec": {
      "display_name": "Python 3",
      "name": "python3"
    },
    "language_info": {
      "name": "python"
    }
  },
  "nbformat": 4,
  "nbformat_minor": 0
}